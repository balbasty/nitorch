{
 "cells": [
  {
   "cell_type": "code",
   "execution_count": null,
   "metadata": {
    "pycharm": {
     "name": "#%%\n"
    }
   },
   "outputs": [],
   "source": [
    "# GETTING STARTED\n",
    "# This demo was run on:\n",
    "# * Ubuntu    18.04.4 LTS / CentOS 7.7.1908\n",
    "# * CUDA      10.1\n",
    "# * anaconda  1.7.2\n",
    "# * gcc       6.3.1\n",
    "# * pytorch   1.6\n",
    "#\n",
    "# To get started, run the following commands in a terminal:\n",
    "#\n",
    "#   git clone git@github.com:balbasty/nitorch.git\n",
    "#   cd nitorch\n",
    "#   conda env create --file ./conda/nitorch-demo.yml\n",
    "#   conda activate nitorch-demo\n",
    "#   pip install ."
   ]
  },
  {
   "cell_type": "markdown",
   "metadata": {},
   "source": [
    "## GETTING STARTED\n",
    "\n",
    "First, I will import required packages:"
   ]
  },
  {
   "cell_type": "code",
   "execution_count": null,
   "metadata": {},
   "outputs": [],
   "source": [
    "# Python\n",
    "import os\n",
    "import wget\n",
    "import math\n",
    "from timeit import default_timer as timer\n",
    "\n",
    "# Torch / NiBabel\n",
    "import nibabel as nib\n",
    "import torch\n",
    "from torch.nn import functional as F\n",
    "\n",
    "# NiTorch\n",
    "from nitorch.core.kernels import smooth\n",
    "from nitorch.spatial import (affine_matrix_classic, affine_grid, identity_grid,\n",
    "                             grid_pull, grid_push, voxel_size)\n",
    "from nitorch.plot import show_slices\n",
    "from nitorch.core.utils import pad"
   ]
  },
  {
   "cell_type": "markdown",
   "metadata": {},
   "source": [
    "and get the PyTorch device:"
   ]
  },
  {
   "cell_type": "code",
   "execution_count": null,
   "metadata": {
    "pycharm": {
     "name": "#%%\n"
    }
   },
   "outputs": [],
   "source": [
    "device_type = 'cuda' if torch.cuda.is_available() else 'cpu'\n",
    "device = torch.device(device_type)\n",
    "if device_type == 'cuda':\n",
    "    print('GPU: ' + torch.cuda.get_device_name(0) + ', CUDA: ' + str(torch.cuda.is_available()))\n",
    "else:\n",
    "    print('CPU')"
   ]
  },
  {
   "cell_type": "markdown",
   "metadata": {
    "pycharm": {
     "name": "#%% md\n"
    }
   },
   "source": [
    "I will in this demo use an (almost) 1 mm isotropic T1w MRI from the IXI dataset (http://brain-development.org/ixi-dataset/):"
   ]
  },
  {
   "cell_type": "code",
   "execution_count": null,
   "metadata": {},
   "outputs": [],
   "source": [
    "# URL to MRI\n",
    "url = 'https://www.dropbox.com/s/vsq2yczm1c343wv/IXI002-T1-Guys-0828-MPRAGESEN_-s256_-0301-00003-000001-01.nii?dl=1'\n",
    "\n",
    "# Path to downloaded image file\n",
    "pth = 'IXI002-T1-Guys-0828-MPRAGESEN_-s256_-0301-00003-000001-01.nii'\n",
    "\n",
    "# Download file\n",
    "if not os.path.exists(pth):\n",
    "    print('Downloading image...', end='')\n",
    "    wget.download(url, pth)\n",
    "    print('done!')"
   ]
  },
  {
   "cell_type": "code",
   "execution_count": null,
   "metadata": {
    "pycharm": {
     "name": "#%%\n"
    }
   },
   "outputs": [],
   "source": [
    "# Get image data and affine matrix\n",
    "nii = nib.load(pth)\n",
    "mat_in = torch.tensor(nii.affine).double().to(device)\n",
    "dat_in = torch.tensor(nii.get_fdata()).float().to(device)\n",
    "dat_in_cpu = dat_in.cpu()\n",
    "dim_in = dat_in.shape\n",
    "vx_in = voxel_size(mat_in)\n",
    "\n",
    "# Look at input\n",
    "fig = show_slices(dat_in)"
   ]
  },
  {
   "cell_type": "markdown",
   "metadata": {
    "pycharm": {
     "name": "#%% md\n"
    }
   },
   "source": [
    "Finally, I will set some `nitorch` specifics (for detailed documentation look at header of individual nitorch functions):"
   ]
  },
  {
   "cell_type": "code",
   "execution_count": null,
   "metadata": {
    "pycharm": {
     "name": "#%%\n"
    }
   },
   "outputs": [],
   "source": [
    "bound = 'zero'  # what boundary condition to assume\n",
    "extrapolate = True  # what to do with voxels that falls outside of the field of view\n",
    "interpolation = 1  # degree of interpolation\n",
    "\n",
    "# Make dimensionality compatible with nitorch (input should have dimensions (batch, channels, X, Y, Z))\n",
    "dat_in = dat_in[None, None, ...]\n",
    "dat_in_cpu = dat_in_cpu[None, None, ...]"
   ]
  },
  {
   "cell_type": "markdown",
   "metadata": {},
   "source": [
    "## Example 1: Randomly realign image\n",
    "\n",
    "This example will apply a random realignment (translation + rotation) to the input image using `nitorch`, comparing doing so on the GPU and the CPU. Note that this example could easily be modified to apply just a flip or a shift."
   ]
  },
  {
   "cell_type": "code",
   "execution_count": null,
   "metadata": {
    "pycharm": {
     "name": "#%%\n"
    }
   },
   "outputs": [],
   "source": [
    "# Create an affine matrix that does a random shift in translation and a rotation\n",
    "p = torch.zeros(6, device=dat_in.device, dtype=torch.float64)\n",
    "p[:3] = 5*torch.randn(3, device=dat_in.device, dtype=torch.float64)  # translation\n",
    "p[3:] = 5*torch.randn(3, device=dat_in.device, dtype=torch.float64)*(math.pi/180)  # rotation\n",
    "mat_out = affine_matrix_classic(p)\n",
    "\n",
    "# Create an identity grid of size dim_in and apply affine matrix mat_out\n",
    "grid = affine_grid(mat_out, dim_in).type(dat_in.dtype)[None, ...]\n",
    "grid_cpu = grid.cpu()"
   ]
  },
  {
   "cell_type": "markdown",
   "metadata": {
    "pycharm": {
     "name": "#%% md\n"
    }
   },
   "source": [
    "Run on the **GPU**:"
   ]
  },
  {
   "cell_type": "code",
   "execution_count": null,
   "metadata": {
    "pycharm": {
     "name": "#%%\n"
    }
   },
   "outputs": [],
   "source": [
    "# Pull (resample) input image (dat_in) on the GPU\n",
    "t = timer()  # Start timer\n",
    "dat_pull = grid_pull(dat_in, grid,\n",
    "                     bound=bound, extrapolate=extrapolate, interpolation=interpolation)\n",
    "print('device={} | elapsed time: {:0.4f} seconds'.format(dat_pull.device, timer() - t))\n",
    "\n",
    "fig = show_slices(dat_pull[0, 0, ...])\n"
   ]
  },
  {
   "cell_type": "markdown",
   "metadata": {},
   "source": [
    "Run on the **CPU**:"
   ]
  },
  {
   "cell_type": "code",
   "execution_count": null,
   "metadata": {
    "pycharm": {
     "name": "#%%\n"
    }
   },
   "outputs": [],
   "source": [
    "# Pull (resample) input image (dat_in) on the CPU\n",
    "t = timer()  # Start timer\n",
    "dat_pull = grid_pull(dat_in_cpu, grid_cpu,\n",
    "                     bound=bound, extrapolate=extrapolate, interpolation=interpolation)\n",
    "print('device={} | elapsed time: {:0.4f} seconds'.format(dat_pull.device, timer() - t))\n",
    "\n",
    "fig = show_slices(dat_pull[0, 0, ...])"
   ]
  },
  {
   "cell_type": "markdown",
   "metadata": {
    "pycharm": {
     "name": "#%% md\n"
    }
   },
   "source": [
    "## Example 2: Pull isotropic to anisotropic, then push (splat)\n",
    "\n",
    "This example will make the input (near to 1 mm isotropic) image thick-sliced. It will then use the adjoint of the pull operation to push (splat) the generated thick-sliced image back to its isotropic space."
   ]
  },
  {
   "cell_type": "code",
   "execution_count": null,
   "metadata": {
    "pycharm": {
     "name": "#%%\n"
    }
   },
   "outputs": [],
   "source": [
    "# Set output voxel size\n",
    "vx_out = torch.tensor([1.0, 1.0, 6.0], device=dat_in.device, dtype=torch.float64)\n",
    "\n",
    "# Get output dimensions and orientation matrix\n",
    "one = torch.tensor(1.0, device=dat_in.device, dtype=torch.float64)[..., None]\n",
    "D = torch.diag(torch.cat((vx_out / vx_in, one)))\n",
    "mat_out = mat_in.mm(D)\n",
    "mat_out[:3, 3] = mat_out[:3, 3] + 0.5*(vx_out - vx_in)\n",
    "dim_out = D.inverse()[:3, :3].mm(torch.tensor(dim_in, device=dat_in.device,\n",
    "                                 dtype=torch.float64).reshape((3, 1))).ceil().squeeze()\n",
    "dim_out = dim_out.int().cpu().tolist()\n",
    "\n",
    "# Create an identity grid of size dim_out and apply affine matrix mat_pull\n",
    "mat_pull = mat_out.solve(mat_in)[0]\n",
    "grid = affine_grid(mat_pull, dim_out).type(dat_in.dtype)[None, ...]\n",
    "grid_cpu = grid.cpu()\n"
   ]
  },
  {
   "cell_type": "markdown",
   "metadata": {},
   "source": [
    "Run on the **GPU**:"
   ]
  },
  {
   "cell_type": "code",
   "execution_count": null,
   "metadata": {
    "pycharm": {
     "name": "#%%\n"
    }
   },
   "outputs": [],
   "source": [
    "# Pull (resample) input image (dat_in) on the GPU\n",
    "t = timer()  # Start timer\n",
    "dat_pull = grid_pull(dat_in, grid,\n",
    "                     bound=bound, extrapolate=extrapolate, interpolation=interpolation)\n",
    "print('device={} | elapsed time: {:0.4f} seconds'.format(dat_pull.device, timer() - t))\n",
    "\n",
    "fig = show_slices(dat_pull[0, 0, ...])"
   ]
  },
  {
   "cell_type": "code",
   "execution_count": null,
   "metadata": {
    "pycharm": {
     "name": "#%%\n"
    }
   },
   "outputs": [],
   "source": [
    "# Push the pulled image, on the GPU\n",
    "t = timer()  # Start timer\n",
    "dat_push = grid_push(dat_pull, grid, shape=dim_in,\n",
    "                     bound=bound, extrapolate=extrapolate, interpolation=interpolation)\n",
    "print('device={} | elapsed time: {:0.4f} seconds'.format(dat_push.device, timer() - t))\n",
    "\n",
    "fig = show_slices(dat_push[0, 0, ...])\n"
   ]
  },
  {
   "cell_type": "markdown",
   "metadata": {},
   "source": [
    "Run on the **CPU**:"
   ]
  },
  {
   "cell_type": "code",
   "execution_count": null,
   "metadata": {
    "pycharm": {
     "name": "#%%\n"
    }
   },
   "outputs": [],
   "source": [
    "# Pull (resample) input image (dat_in) on the CPU\n",
    "t = timer()  # Start timer\n",
    "dat_pull = grid_pull(dat_in_cpu, grid_cpu,\n",
    "                     bound=bound, extrapolate=extrapolate, interpolation=interpolation)\n",
    "print('device={} | elapsed time: {:0.4f} seconds'.format(dat_pull.device, timer() - t))\n",
    "\n",
    "fig = show_slices(dat_pull[0, 0, ...])"
   ]
  },
  {
   "cell_type": "code",
   "execution_count": null,
   "metadata": {
    "pycharm": {
     "name": "#%%\n"
    }
   },
   "outputs": [],
   "source": [
    "# Push the pulled image, on the GPU\n",
    "t = timer()  # Start timer\n",
    "dat_push = grid_push(dat_pull, grid_cpu, shape=dim_in,\n",
    "                     bound=bound, extrapolate=extrapolate, interpolation=interpolation)\n",
    "print('device={} | elapsed time: {:0.4f} seconds'.format(dat_push.device, timer() - t))\n",
    "\n",
    "fig = show_slices(dat_push[0, 0, ...])\n"
   ]
  },
  {
   "cell_type": "markdown",
   "metadata": {},
   "source": [
    "## Example 3: Apply random deformation\n",
    "\n",
    "This example will apply a random (nonlinear) deformation to the input image. The nonlinear deformation is generated by simply sampling from a Gaussian and then smoothing this sampled data."
   ]
  },
  {
   "cell_type": "code",
   "execution_count": null,
   "metadata": {
    "pycharm": {
     "name": "#%%\n"
    }
   },
   "outputs": [],
   "source": [
    "# Parameters of random displacement\n",
    "kernel = 'gauss'\n",
    "sd = 10\n",
    "fwhm = 5\n",
    "\n",
    "# Create an identity grid of size dim_in\n",
    "grid = identity_grid(dim_in, device=dat_in.device, dtype=dat_in.dtype)\n",
    "\n",
    "# Simulate a random displacement\n",
    "df = sd*torch.randn(grid.shape, device=dat_in.device, dtype=dat_in.dtype)\n",
    "\n",
    "# Make smoothing kernel\n",
    "smo = smooth((kernel,) * 3, fwhm=(fwhm,) * 3, device=dat_in.device, dtype=dat_in.dtype, sep=False)\n",
    "\n",
    "# Padding amount for subsequent convolution\n",
    "p = (torch.tensor(smo.shape[2:]) - 1)//2\n",
    "p = tuple(p.int().cpu().tolist())\n",
    "\n",
    "# Smooth displacement with Gaussian kernel (by convolving)\n",
    "for d in range(3):\n",
    "    tmp = pad(df[..., d], p, side='both')\n",
    "    tmp = F.conv3d(tmp[None, None, ...], smo)[0, 0, ...]\n",
    "    df[..., d] = tmp\n",
    "\n",
    "# Apply the displacement to the identity grid to make the random deformation\n",
    "grid = grid + df\n",
    "\n",
    "grid = grid[None, ...]\n",
    "grid_cpu = grid.cpu()"
   ]
  },
  {
   "cell_type": "markdown",
   "metadata": {},
   "source": [
    "Run on the **GPU**:"
   ]
  },
  {
   "cell_type": "code",
   "execution_count": null,
   "metadata": {
    "pycharm": {
     "name": "#%%\n"
    }
   },
   "outputs": [],
   "source": [
    "# Pull (resample) input image (dat_in) on the GPU\n",
    "t = timer()  # Start timer\n",
    "dat_pull = grid_pull(dat_in, grid,\n",
    "                     bound=bound, extrapolate=extrapolate, interpolation=interpolation)\n",
    "print('device={} | elapsed time: {:0.4f} seconds'.format(dat_pull.device, timer() - t))\n",
    "\n",
    "fig = show_slices(dat_pull[0, 0, ...])"
   ]
  },
  {
   "cell_type": "markdown",
   "metadata": {},
   "source": [
    "Run on the **CPU**:"
   ]
  },
  {
   "cell_type": "code",
   "execution_count": null,
   "metadata": {
    "pycharm": {
     "name": "#%%\n"
    }
   },
   "outputs": [],
   "source": [
    "# Pull (resample) input image (dat_in) on the CPU\n",
    "t = timer()  # Start timer\n",
    "dat_pull = grid_pull(dat_in_cpu, grid_cpu,\n",
    "                     bound=bound, extrapolate=extrapolate, interpolation=interpolation)\n",
    "print('device={} | elapsed time: {:0.4f} seconds'.format(dat_pull.device, timer() - t))\n",
    "\n",
    "fig = show_slices(dat_pull[0, 0, ...])\n"
   ]
  }
 ],
 "metadata": {
  "kernelspec": {
   "display_name": "Python 3",
   "language": "python",
   "name": "python3"
  },
  "language_info": {
   "codemirror_mode": {
    "name": "ipython",
    "version": 3
   },
   "file_extension": ".py",
   "mimetype": "text/x-python",
   "name": "python",
   "nbconvert_exporter": "python",
   "pygments_lexer": "ipython3",
   "version": "3.7.8"
  },
  "varInspector": {
   "cols": {
    "lenName": 16,
    "lenType": 16,
    "lenVar": 40
   },
   "kernels_config": {
    "python": {
     "delete_cmd_postfix": "",
     "delete_cmd_prefix": "del ",
     "library": "var_list.py",
     "varRefreshCmd": "print(var_dic_list())"
    },
    "r": {
     "delete_cmd_postfix": ") ",
     "delete_cmd_prefix": "rm(",
     "library": "var_list.r",
     "varRefreshCmd": "cat(var_dic_list()) "
    }
   },
   "types_to_exclude": [
    "module",
    "function",
    "builtin_function_or_method",
    "instance",
    "_Feature"
   ],
   "window_display": false
  }
 },
 "nbformat": 4,
 "nbformat_minor": 1
}
