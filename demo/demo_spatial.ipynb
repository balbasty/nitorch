{
  "nbformat": 4,
  "nbformat_minor": 0,
  "metadata": {
    "kernelspec": {
      "display_name": "Python 3",
      "language": "python",
      "name": "python3"
    },
    "language_info": {
      "codemirror_mode": {
        "name": "ipython",
        "version": 3
      },
      "file_extension": ".py",
      "mimetype": "text/x-python",
      "name": "python",
      "nbconvert_exporter": "python",
      "pygments_lexer": "ipython3",
      "version": "3.7.8"
    },
    "varInspector": {
      "cols": {
        "lenName": 16,
        "lenType": 16,
        "lenVar": 40
      },
      "kernels_config": {
        "python": {
          "delete_cmd_postfix": "",
          "delete_cmd_prefix": "del ",
          "library": "var_list.py",
          "varRefreshCmd": "print(var_dic_list())"
        },
        "r": {
          "delete_cmd_postfix": ") ",
          "delete_cmd_prefix": "rm(",
          "library": "var_list.r",
          "varRefreshCmd": "cat(var_dic_list()) "
        }
      },
      "types_to_exclude": [
        "module",
        "function",
        "builtin_function_or_method",
        "instance",
        "_Feature"
      ],
      "window_display": false
    },
    "colab": {
      "name": "demo_spatial.ipynb",
      "provenance": [],
      "collapsed_sections": [
        "cvBq87nunox1",
        "E8y0uAl4aEnU"
      ]
    }
  },
  "cells": [
    {
      "cell_type": "markdown",
      "metadata": {
        "id": "nQrXtQnX_PqM"
      },
      "source": [
        "# NITorch (**N**euro**I**maging Py**Torch**)\n",
        "\n",
        "# Spatial Tools Demo\n",
        "\n",
        "Also available in self-contained Colab notebook\n",
        "\n",
        "[![Open In Colab](https://colab.research.google.com/assets/colab-badge.svg)](https://colab.research.google.com/drive/1-dfCosj9XoesFt7byIhp84p2JMUuHxby?usp=sharing \"NITorch Spatial Tools Demo\")"
      ]
    },
    {
      "cell_type": "markdown",
      "metadata": {
        "id": "cvBq87nunox1"
      },
      "source": [
        "##### For offline version:"
      ]
    },
    {
      "cell_type": "code",
      "metadata": {
        "id": "AWU0qPxCnnS_"
      },
      "source": [
        "# GETTING STARTED\n",
        "# This demo was run on:\n",
        "# * Ubuntu    18.04.4 LTS / CentOS 7.7.1908\n",
        "# * CUDA      10.1\n",
        "# * anaconda  1.7.2\n",
        "# * gcc       6.3.1\n",
        "# * pytorch   1.6\n",
        "#\n",
        "# To get started, run the following commands in a terminal:\n",
        "#\n",
        "#   git clone git@github.com:balbasty/nitorch.git\n",
        "#   cd nitorch\n",
        "#   conda env create --file ./conda/nitorch-demo.yml\n",
        "#   conda activate nitorch-demo\n",
        "#   pip install ."
      ],
      "execution_count": null,
      "outputs": []
    },
    {
      "cell_type": "markdown",
      "metadata": {
        "id": "E8y0uAl4aEnU"
      },
      "source": [
        "### Installations"
      ]
    },
    {
      "cell_type": "markdown",
      "metadata": {
        "id": "LkCLCPHzAWQh"
      },
      "source": [
        "First clone the repo..."
      ]
    },
    {
      "cell_type": "code",
      "metadata": {
        "colab": {
          "base_uri": "https://localhost:8080/"
        },
        "id": "jXRmdprZ5mpQ",
        "outputId": "4715faca-bdc8-46ff-9e7c-8b817463ce78"
      },
      "source": [
        "!git clone https://github.com/balbasty/nitorch"
      ],
      "execution_count": null,
      "outputs": []
    },
    {
      "cell_type": "markdown",
      "metadata": {
        "id": "cYAlgRTzAZxw"
      },
      "source": [
        "Set-up of NITorch and dependencies"
      ]
    },
    {
      "cell_type": "code",
      "metadata": {
        "colab": {
          "base_uri": "https://localhost:8080/"
        },
        "id": "egsyR4pFAVSw",
        "outputId": "36d2970f-6c9d-4410-b176-bf82935ec862"
      },
      "source": [
        "! pip install numpy\n",
        "! pip install nibabel\n",
        "! pip install matplotlib\n",
        "! pip install scipy"
      ],
      "execution_count": null,
      "outputs": []
    },
    {
      "cell_type": "code",
      "metadata": {
        "colab": {
          "base_uri": "https://localhost:8080/"
        },
        "id": "xsD9indOAVb5",
        "outputId": "0762ad05-929a-438e-97a3-d39e8e28bead"
      },
      "source": [
        "! pip install ./nitorch/"
      ],
      "execution_count": null,
      "outputs": []
    },
    {
      "cell_type": "markdown",
      "metadata": {
        "id": "JUUh0OJzENbK"
      },
      "source": [
        "Above cells can be pasted into your own colab notebook for easy install"
      ]
    },
    {
      "cell_type": "markdown",
      "metadata": {
        "id": "BQoS_Pw9ZWyA"
      },
      "source": [
        "## GETTING STARTED\n",
        "\n",
        "First, I will import required packages:"
      ]
    },
    {
      "cell_type": "code",
      "metadata": {
        "id": "P8l7D4GSZWyB"
      },
      "source": [
        "# Python\n",
        "import os\n",
        "import wget\n",
        "import math\n",
        "from timeit import default_timer as timer\n",
        "\n",
        "# Torch / NiBabel\n",
        "import nibabel as nib\n",
        "import torch\n",
        "from torch.nn import functional as F\n",
        "\n",
        "# NiTorch\n",
        "from nitorch.core.kernels import smooth\n",
        "from nitorch.spatial import (affine_matrix_classic, affine_grid, identity_grid,\n",
        "                             grid_pull, grid_push, voxel_size)\n",
        "from nitorch.plot import show_slices\n",
        "from nitorch.core.utils import pad"
      ],
      "execution_count": null,
      "outputs": []
    },
    {
      "cell_type": "markdown",
      "metadata": {
        "id": "0bZOjOaYZWyC"
      },
      "source": [
        "and get the PyTorch device:"
      ]
    },
    {
      "cell_type": "code",
      "metadata": {
        "pycharm": {
          "name": "#%%\n"
        },
        "id": "P61_FTfBZWyD"
      },
      "source": [
        "device_type = 'cuda' if torch.cuda.is_available() else 'cpu'\n",
        "device = torch.device(device_type)\n",
        "if device_type == 'cuda':\n",
        "    print('GPU: ' + torch.cuda.get_device_name(0) + ', CUDA: ' + str(torch.cuda.is_available()))\n",
        "else:\n",
        "    print('CPU')"
      ],
      "execution_count": null,
      "outputs": []
    },
    {
      "cell_type": "markdown",
      "metadata": {
        "pycharm": {
          "name": "#%% md\n"
        },
        "id": "5bRRZWIdZWyD"
      },
      "source": [
        "I will in this demo use an (almost) 1 mm isotropic T1w MRI from the IXI dataset (http://brain-development.org/ixi-dataset/):"
      ]
    },
    {
      "cell_type": "code",
      "metadata": {
        "id": "UcRLmsqUZWyE"
      },
      "source": [
        "# URL to MRI\n",
        "url = 'https://www.dropbox.com/s/vsq2yczm1c343wv/IXI002-T1-Guys-0828-MPRAGESEN_-s256_-0301-00003-000001-01.nii?dl=1'\n",
        "\n",
        "# Path to downloaded image file\n",
        "pth = 'IXI002-T1-Guys-0828-MPRAGESEN_-s256_-0301-00003-000001-01.nii'\n",
        "\n",
        "# Download file\n",
        "if not os.path.exists(pth):\n",
        "    print('Downloading image...', end='')\n",
        "    wget.download(url, pth)\n",
        "    print('done!')"
      ],
      "execution_count": null,
      "outputs": []
    },
    {
      "cell_type": "code",
      "metadata": {
        "pycharm": {
          "name": "#%%\n"
        },
        "id": "c83D3FS4ZWyE"
      },
      "source": [
        "# Get image data and affine matrix\n",
        "nii = nib.load(pth)\n",
        "mat_in = torch.tensor(nii.affine).double().to(device)\n",
        "dat_in = torch.tensor(nii.get_fdata()).float().to(device)\n",
        "dat_in_cpu = dat_in.cpu()\n",
        "dim_in = dat_in.shape\n",
        "vx_in = voxel_size(mat_in)\n",
        "\n",
        "# Look at input\n",
        "fig = show_slices(dat_in)"
      ],
      "execution_count": null,
      "outputs": []
    },
    {
      "cell_type": "markdown",
      "metadata": {
        "pycharm": {
          "name": "#%% md\n"
        },
        "id": "Bhn1XoUhZWyF"
      },
      "source": [
        "Finally, I will set some `nitorch` specifics (for detailed documentation look at header of individual nitorch functions):"
      ]
    },
    {
      "cell_type": "code",
      "metadata": {
        "pycharm": {
          "name": "#%%\n"
        },
        "id": "amxQYMHbZWyF"
      },
      "source": [
        "bound = 'zero'  # what boundary condition to assume\n",
        "extrapolate = True  # what to do with voxels that falls outside of the field of view\n",
        "interpolation = 1  # degree of interpolation\n",
        "\n",
        "# Make dimensionality compatible with nitorch (input should have dimensions (batch, channels, X, Y, Z))\n",
        "dat_in = dat_in[None, None, ...]\n",
        "dat_in_cpu = dat_in_cpu[None, None, ...]"
      ],
      "execution_count": null,
      "outputs": []
    },
    {
      "cell_type": "markdown",
      "metadata": {
        "id": "roN-vn58ZWyG"
      },
      "source": [
        "## Example 1: Randomly realign image\n",
        "\n",
        "This example will apply a random realignment (translation + rotation) to the input image using `nitorch`, comparing doing so on the GPU and the CPU. Note that this example could easily be modified to apply just a flip or a shift."
      ]
    },
    {
      "cell_type": "code",
      "metadata": {
        "pycharm": {
          "name": "#%%\n"
        },
        "id": "gQDDWl1eZWyH"
      },
      "source": [
        "# Create an affine matrix that does a random shift in translation and a rotation\n",
        "p = torch.zeros(6, device=dat_in.device, dtype=torch.float64)\n",
        "p[:3] = 5*torch.randn(3, device=dat_in.device, dtype=torch.float64)  # translation\n",
        "p[3:] = 5*torch.randn(3, device=dat_in.device, dtype=torch.float64)*(math.pi/180)  # rotation\n",
        "mat_out = affine_matrix_classic(p)\n",
        "\n",
        "# Create an identity grid of size dim_in and apply affine matrix mat_out\n",
        "grid = affine_grid(mat_out, dim_in).type(dat_in.dtype)[None, ...]\n",
        "grid_cpu = grid.cpu()"
      ],
      "execution_count": null,
      "outputs": []
    },
    {
      "cell_type": "markdown",
      "metadata": {
        "pycharm": {
          "name": "#%% md\n"
        },
        "id": "CcRhLmjkZWyH"
      },
      "source": [
        "Run on the **GPU**:"
      ]
    },
    {
      "cell_type": "code",
      "metadata": {
        "pycharm": {
          "name": "#%%\n"
        },
        "id": "4NMrEUxEZWyI"
      },
      "source": [
        "# Pull (resample) input image (dat_in) on the GPU\n",
        "t = timer()  # Start timer\n",
        "dat_pull = grid_pull(dat_in, grid,\n",
        "                     bound=bound, extrapolate=extrapolate, interpolation=interpolation)\n",
        "print('device={} | elapsed time: {:0.4f} seconds'.format(dat_pull.device, timer() - t))\n",
        "\n",
        "fig = show_slices(dat_pull[0, 0, ...])\n"
      ],
      "execution_count": null,
      "outputs": []
    },
    {
      "cell_type": "markdown",
      "metadata": {
        "id": "8ClGDPgPZWyI"
      },
      "source": [
        "Run on the **CPU**:"
      ]
    },
    {
      "cell_type": "code",
      "metadata": {
        "pycharm": {
          "name": "#%%\n"
        },
        "id": "veb5STxNZWyJ"
      },
      "source": [
        "# Pull (resample) input image (dat_in) on the CPU\n",
        "t = timer()  # Start timer\n",
        "dat_pull = grid_pull(dat_in_cpu, grid_cpu,\n",
        "                     bound=bound, extrapolate=extrapolate, interpolation=interpolation)\n",
        "print('device={} | elapsed time: {:0.4f} seconds'.format(dat_pull.device, timer() - t))\n",
        "\n",
        "fig = show_slices(dat_pull[0, 0, ...])"
      ],
      "execution_count": null,
      "outputs": []
    },
    {
      "cell_type": "markdown",
      "metadata": {
        "pycharm": {
          "name": "#%% md\n"
        },
        "id": "4qxDm1mMZWyK"
      },
      "source": [
        "## Example 2: Pull isotropic to anisotropic, then push (splat)\n",
        "\n",
        "This example will make the input (near to 1 mm isotropic) image thick-sliced. It will then use the adjoint of the pull operation to push (splat) the generated thick-sliced image back to its isotropic space."
      ]
    },
    {
      "cell_type": "code",
      "metadata": {
        "pycharm": {
          "name": "#%%\n"
        },
        "id": "-RmnuacBZWyL"
      },
      "source": [
        "# Set output voxel size\n",
        "vx_out = torch.tensor([1.0, 1.0, 6.0], device=dat_in.device, dtype=torch.float64)\n",
        "\n",
        "# Get output dimensions and orientation matrix\n",
        "one = torch.tensor(1.0, device=dat_in.device, dtype=torch.float64)[..., None]\n",
        "D = torch.diag(torch.cat((vx_out / vx_in, one)))\n",
        "mat_out = mat_in.mm(D)\n",
        "mat_out[:3, 3] = mat_out[:3, 3] + 0.5*(vx_out - vx_in)\n",
        "dim_out = D.inverse()[:3, :3].mm(torch.tensor(dim_in, device=dat_in.device,\n",
        "                                 dtype=torch.float64).reshape((3, 1))).ceil().squeeze()\n",
        "dim_out = dim_out.int().cpu().tolist()\n",
        "\n",
        "# Create an identity grid of size dim_out and apply affine matrix mat_pull\n",
        "mat_pull = mat_out.solve(mat_in)[0]\n",
        "grid = affine_grid(mat_pull, dim_out).type(dat_in.dtype)[None, ...]\n",
        "grid_cpu = grid.cpu()\n"
      ],
      "execution_count": null,
      "outputs": []
    },
    {
      "cell_type": "markdown",
      "metadata": {
        "id": "izICZqwPZWyL"
      },
      "source": [
        "Run on the **GPU**:"
      ]
    },
    {
      "cell_type": "code",
      "metadata": {
        "pycharm": {
          "name": "#%%\n"
        },
        "id": "fuvxr-MhZWyM"
      },
      "source": [
        "# Pull (resample) input image (dat_in) on the GPU\n",
        "t = timer()  # Start timer\n",
        "dat_pull = grid_pull(dat_in, grid,\n",
        "                     bound=bound, extrapolate=extrapolate, interpolation=interpolation)\n",
        "print('device={} | elapsed time: {:0.4f} seconds'.format(dat_pull.device, timer() - t))\n",
        "\n",
        "fig = show_slices(dat_pull[0, 0, ...])"
      ],
      "execution_count": null,
      "outputs": []
    },
    {
      "cell_type": "code",
      "metadata": {
        "pycharm": {
          "name": "#%%\n"
        },
        "id": "ig9mYNEgZWyM"
      },
      "source": [
        "# Push the pulled image, on the GPU\n",
        "t = timer()  # Start timer\n",
        "dat_push = grid_push(dat_pull, grid, shape=dim_in,\n",
        "                     bound=bound, extrapolate=extrapolate, interpolation=interpolation)\n",
        "print('device={} | elapsed time: {:0.4f} seconds'.format(dat_push.device, timer() - t))\n",
        "\n",
        "fig = show_slices(dat_push[0, 0, ...])\n"
      ],
      "execution_count": null,
      "outputs": []
    },
    {
      "cell_type": "markdown",
      "metadata": {
        "id": "KP95ksN_ZWyQ"
      },
      "source": [
        "Run on the **CPU**:"
      ]
    },
    {
      "cell_type": "code",
      "metadata": {
        "pycharm": {
          "name": "#%%\n"
        },
        "id": "CwnYPa2WZWyS"
      },
      "source": [
        "# Pull (resample) input image (dat_in) on the CPU\n",
        "t = timer()  # Start timer\n",
        "dat_pull = grid_pull(dat_in_cpu, grid_cpu,\n",
        "                     bound=bound, extrapolate=extrapolate, interpolation=interpolation)\n",
        "print('device={} | elapsed time: {:0.4f} seconds'.format(dat_pull.device, timer() - t))\n",
        "\n",
        "fig = show_slices(dat_pull[0, 0, ...])"
      ],
      "execution_count": null,
      "outputs": []
    },
    {
      "cell_type": "code",
      "metadata": {
        "pycharm": {
          "name": "#%%\n"
        },
        "id": "pwyl-jXuZWyT"
      },
      "source": [
        "# Push the pulled image, on the GPU\n",
        "t = timer()  # Start timer\n",
        "dat_push = grid_push(dat_pull, grid_cpu, shape=dim_in,\n",
        "                     bound=bound, extrapolate=extrapolate, interpolation=interpolation)\n",
        "print('device={} | elapsed time: {:0.4f} seconds'.format(dat_push.device, timer() - t))\n",
        "\n",
        "fig = show_slices(dat_push[0, 0, ...])\n"
      ],
      "execution_count": null,
      "outputs": []
    },
    {
      "cell_type": "markdown",
      "metadata": {
        "id": "slrSc1v4ZWyT"
      },
      "source": [
        "## Example 3: Apply random deformation\n",
        "\n",
        "This example will apply a random (nonlinear) deformation to the input image. The nonlinear deformation is generated by simply sampling from a Gaussian and then smoothing this sampled data."
      ]
    },
    {
      "cell_type": "code",
      "metadata": {
        "pycharm": {
          "name": "#%%\n"
        },
        "id": "PfRTvNuVZWyT"
      },
      "source": [
        "# Parameters of random displacement\n",
        "kernel = 'gauss'\n",
        "sd = 10\n",
        "fwhm = 5\n",
        "\n",
        "# Create an identity grid of size dim_in\n",
        "grid = identity_grid(dim_in, device=dat_in.device, dtype=dat_in.dtype)\n",
        "\n",
        "# Simulate a random displacement\n",
        "df = sd*torch.randn(grid.shape, device=dat_in.device, dtype=dat_in.dtype)\n",
        "\n",
        "# Make smoothing kernel\n",
        "smo = smooth((kernel,) * 3, fwhm=(fwhm,) * 3, device=dat_in.device, dtype=dat_in.dtype, sep=False)\n",
        "\n",
        "# Padding amount for subsequent convolution\n",
        "p = (torch.tensor(smo.shape[2:]) - 1)//2\n",
        "p = tuple(p.int().cpu().tolist())\n",
        "\n",
        "# Smooth displacement with Gaussian kernel (by convolving)\n",
        "for d in range(3):\n",
        "    tmp = pad(df[..., d], p, side='both')\n",
        "    tmp = F.conv3d(tmp[None, None, ...], smo)[0, 0, ...]\n",
        "    df[..., d] = tmp\n",
        "\n",
        "# Apply the displacement to the identity grid to make the random deformation\n",
        "grid = grid + df\n",
        "\n",
        "grid = grid[None, ...]\n",
        "grid_cpu = grid.cpu()"
      ],
      "execution_count": null,
      "outputs": []
    },
    {
      "cell_type": "markdown",
      "metadata": {
        "id": "KiMQW4quZWyU"
      },
      "source": [
        "Run on the **GPU**:"
      ]
    },
    {
      "cell_type": "code",
      "metadata": {
        "pycharm": {
          "name": "#%%\n"
        },
        "id": "obeB8uYoZWyU"
      },
      "source": [
        "# Pull (resample) input image (dat_in) on the GPU\n",
        "t = timer()  # Start timer\n",
        "dat_pull = grid_pull(dat_in, grid,\n",
        "                     bound=bound, extrapolate=extrapolate, interpolation=interpolation)\n",
        "print('device={} | elapsed time: {:0.4f} seconds'.format(dat_pull.device, timer() - t))\n",
        "\n",
        "fig = show_slices(dat_pull[0, 0, ...])"
      ],
      "execution_count": null,
      "outputs": []
    },
    {
      "cell_type": "markdown",
      "metadata": {
        "id": "BTwFHx1CZWyU"
      },
      "source": [
        "Run on the **CPU**:"
      ]
    },
    {
      "cell_type": "code",
      "metadata": {
        "pycharm": {
          "name": "#%%\n"
        },
        "id": "SmetQkrQZWyU"
      },
      "source": [
        "# Pull (resample) input image (dat_in) on the CPU\n",
        "t = timer()  # Start timer\n",
        "dat_pull = grid_pull(dat_in_cpu, grid_cpu,\n",
        "                     bound=bound, extrapolate=extrapolate, interpolation=interpolation)\n",
        "print('device={} | elapsed time: {:0.4f} seconds'.format(dat_pull.device, timer() - t))\n",
        "\n",
        "fig = show_slices(dat_pull[0, 0, ...])\n"
      ],
      "execution_count": null,
      "outputs": []
    }
  ]
}