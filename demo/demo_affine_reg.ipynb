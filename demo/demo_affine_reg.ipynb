{
 "cells": [
  {
   "cell_type": "code",
   "execution_count": null,
   "metadata": {
    "pycharm": {
     "name": "#%%\n"
    }
   },
   "outputs": [],
   "source": [
    "# GETTING STARTED\n",
    "# This demo was run on:\n",
    "# * Ubuntu    18.04.4 LTS / CentOS 7.7.1908\n",
    "# * CUDA      10.1\n",
    "# * anaconda  1.7.2\n",
    "# * gcc       6.3.1\n",
    "# * pytorch   1.6\n",
    "#\n",
    "# To get started, run the following commands in a terminal:\n",
    "#\n",
    "#   git clone git@github.com:balbasty/nitorch.git\n",
    "#   cd nitorch\n",
    "#   conda env create --file ./conda/nitorch-demo.yml\n",
    "#   conda activate nitorch-demo\n",
    "#   pip install ."
   ]
  },
  {
   "cell_type": "markdown",
   "metadata": {},
   "source": [
    "### GETTING STARTED\n",
    "\n",
    "First, we will import required packages"
   ]
  },
  {
   "cell_type": "code",
   "execution_count": null,
   "metadata": {},
   "outputs": [],
   "source": [
    "# Python\n",
    "import os\n",
    "import wget\n",
    "import math\n",
    "from timeit import default_timer as timer\n",
    "import zipfile\n",
    "\n",
    "# Torch / NiBabel\n",
    "import nibabel as nib\n",
    "import torch\n",
    "from torch.nn import functional as F\n",
    "\n",
    "# NiTorch\n",
    "from nitorch.tools.affine_reg import (apply2affine, reslice2fix, run_affine_reg, test_cost_function)\n",
    "from nitorch.plot import show_slices\n",
    "from nitorch.tools.preproc import reslice2world"
   ]
  },
  {
   "cell_type": "markdown",
   "source": [
    "define a viewer"
   ],
   "metadata": {
    "collapsed": false,
    "pycharm": {
     "name": "#%% md\n"
    }
   }
  },
  {
   "cell_type": "code",
   "execution_count": null,
   "outputs": [],
   "source": [
    "def show_in_world_space(pths):\n",
    "    \"\"\" Look at input images (in world space)\n",
    "    \"\"\"\n",
    "    for n in range(len(pths)):\n",
    "        dat = reslice2world(pths[n], write=False)[1]\n",
    "        _ = show_slices(dat, fig_num=n)"
   ],
   "metadata": {
    "collapsed": false,
    "pycharm": {
     "name": "#%%\n"
    }
   }
  },
  {
   "cell_type": "markdown",
   "metadata": {},
   "source": [
    "and get the PyTorch device"
   ]
  },
  {
   "cell_type": "code",
   "execution_count": null,
   "metadata": {
    "pycharm": {
     "name": "#%%\n"
    }
   },
   "outputs": [],
   "source": [
    "device_type = 'cuda' if torch.cuda.is_available() else 'cpu'\n",
    "device = torch.device(device_type)\n",
    "if device_type == 'cuda':\n",
    "    print('GPU: ' + torch.cuda.get_device_name(0) + ', CUDA: ' + str(torch.cuda.is_available()))\n",
    "else:\n",
    "    print('CPU')"
   ]
  },
  {
   "cell_type": "markdown",
   "metadata": {
    "pycharm": {
     "name": "#%% md\n"
    }
   },
   "source": [
    "This demo will use three MRIs (T1w, T2w, PDw) from the BrainWeb simulator (https://brainweb.bic.mni.mcgill.ca/brainweb/).\n",
    "When running the script for the first time, these images will be downloaded to the same folder as this notebook"
   ]
  },
  {
   "cell_type": "code",
   "execution_count": null,
   "metadata": {},
   "outputs": [],
   "source": [
    "# URL to MRIs\n",
    "url = 'https://www.dropbox.com/s/8xh6tnf47hzkykx/brainweb.zip?dl=1'\n",
    "\n",
    "# Path to downloaded zip-file\n",
    "cwd = os.getcwd()\n",
    "pth_zip = os.path.join(cwd, 'brainweb.zip')\n",
    "pth_mris = [os.path.join(cwd, 't1_icbm_normal_1mm_pn0_rf0.nii'),\n",
    "            os.path.join(cwd, 't2_icbm_normal_1mm_pn0_rf0.nii'),\n",
    "            os.path.join(cwd, 'pd_icbm_normal_1mm_pn0_rf0.nii')]\n",
    "\n",
    "# Download file\n",
    "if not os.path.exists(pth_zip):\n",
    "    print('Downloading image...', end='')\n",
    "    wget.download(url, pth_zip)\n",
    "    print('done!')\n",
    "\n",
    "# Unzip file\n",
    "if not all([os.path.exists(p) for p in pth_mris]):\n",
    "    with zipfile.ZipFile(pth_zip, 'r') as zip_ref:\n",
    "        zip_ref.extractall(cwd)"
   ]
  },
  {
   "cell_type": "markdown",
   "source": [
    "Let's have a look at the images"
   ],
   "metadata": {
    "collapsed": false,
    "pycharm": {
     "name": "#%% md\n"
    }
   }
  },
  {
   "cell_type": "code",
   "execution_count": null,
   "outputs": [],
   "source": [
    "show_in_world_space(pth_mris)"
   ],
   "metadata": {
    "collapsed": false,
    "pycharm": {
     "name": "#%%\n"
    }
   }
  },
  {
   "cell_type": "markdown",
   "source": [
    "### INSPECT REGISTRATION COST FUNCTION\n",
    "\n",
    "Now, let's inspect the cost function's behaviour as we keep one image fixed and move the second image.\n",
    "Feel free to test the different options below"
   ],
   "metadata": {
    "collapsed": false
   }
  },
  {
   "cell_type": "code",
   "execution_count": null,
   "outputs": [],
   "source": [
    "cost_fun = 'nmi'  # ['nmi', 'mi', 'ncc' ,'ecc' ,'njtv']\n",
    "mean_space = False  # On;y available for 'njtv' cost function (as groupwise)\n",
    "samp = 2  # Level of sub-sampling\n",
    "ix_par = 0 # What parameter in the affine transformation to modify (0, ..., 11)\n",
    "x_mn_mx = 30  # Min/max value of parameter\n",
    "x_step = 0.1  # Step-size of parameter\n",
    "\n",
    "test_cost_function([pth_mris[0], pth_mris[1]],\n",
    "    cost_fun=cost_fun, mean_space=False, samp=samp, ix_par=ix_par, x_mn_mx=x_mn_mx, x_step=x_step)"
   ],
   "metadata": {
    "collapsed": false,
    "pycharm": {
     "name": "#%%\n"
    }
   }
  },
  {
   "cell_type": "markdown",
   "source": [
    "### CREATE RIGIDLY MISALIGNED IMAGES\n",
    "\n",
    "Next, we will rigidly misalign all of the input scans, this writes new images prefixed `ma_*`"
   ],
   "metadata": {
    "collapsed": false,
    "pycharm": {
     "name": "#%% md\n"
    }
   }
  },
  {
   "cell_type": "code",
   "execution_count": null,
   "metadata": {
    "pycharm": {
     "name": "#%%\n"
    }
   },
   "outputs": [],
   "source": [
    "# Max translational offset\n",
    "t_std = 10\n",
    "# Max rotational offset\n",
    "r_std = 0.25\n",
    "q_ma = torch.DoubleTensor(len(pth_mris), 6)\n",
    "torch.manual_seed(0)\n",
    "q_ma[:, :3] = torch.DoubleTensor(len(pth_mris), 3).uniform_(-t_std, t_std) # random translation\n",
    "q_ma[:, 3:] = torch.DoubleTensor(len(pth_mris), 3).uniform_(-r_std, r_std) # random rotation\n",
    "pth_mris_ma = apply2affine(pth_mris, q_ma, prefix='ma_')"
   ]
  },
  {
   "cell_type": "markdown",
   "source": [
    "Let's have a look at the misaligned images"
   ],
   "metadata": {
    "collapsed": false
   }
  },
  {
   "cell_type": "code",
   "execution_count": null,
   "outputs": [],
   "source": [
    "show_in_world_space(pth_mris_ma)"
   ],
   "metadata": {
    "collapsed": false,
    "pycharm": {
     "name": "#%%\n"
    }
   }
  },
  {
   "cell_type": "markdown",
   "source": [
    "### PAIRWISE REGISTRAITON\n",
    "\n",
    "Next, we will align the images using pairwise registration by keeping one of the images fixed and registering\n",
    "all other images to this fixed target image"
   ],
   "metadata": {
    "collapsed": false
   }
  },
  {
   "cell_type": "code",
   "execution_count": null,
   "outputs": [],
   "source": [
    "# Parameters\n",
    "cost_fun = 'nmi'  # The normalised mutual information cost\n",
    "fix = 0  # Set the first image to the fixed one (remember, there are three in total)\n",
    "samp = (4, 2)  # Use the default sub-sampling scheme (speeds up the registration)\n",
    "\n",
    "# Do registration\n",
    "# NOTE: The input images (pth_mris_ma) can also be given as\n",
    "# tensors (see documentation in run_affine_reg)\n",
    "q_est_pw, mat_fix, dim_fix = run_affine_reg(pth_mris_ma,\n",
    "    device=device, samp=samp, cost_fun=cost_fun, fix=fix)\n",
    "\n",
    "# NOTE: Registration results can be applied to affine in image header by doing\n",
    "# pth_mris_pa = apply2affine(pth_mris_ma, q_est_pw, B=B)"
   ],
   "metadata": {
    "collapsed": false,
    "pycharm": {
     "name": "#%%\n"
    }
   }
  },
  {
   "cell_type": "markdown",
   "source": [
    "Let's look at the pairwise registration result"
   ],
   "metadata": {
    "collapsed": false
   }
  },
  {
   "cell_type": "code",
   "execution_count": null,
   "outputs": [],
   "source": [
    "# Get image data and reslice to the fixed image using the registration result (q_est)\n",
    "rdat, _ = reslice2fix(pth_mris_ma, q_est_pw, mat_fix, dim_fix, device=device, write=False)\n",
    "# Show images\n",
    "_ = show_slices(rdat)"
   ],
   "metadata": {
    "collapsed": false,
    "pycharm": {
     "name": "#%%\n"
    }
   }
  },
  {
   "cell_type": "markdown",
   "source": [
    "### GROUPWISE REGISTRAITON\n",
    "\n",
    "Finally, we will align the images using groupwise registration where the cost function optimiser over all images\n",
    "at the same time. This is done using the Normalised Joint Total Variation (NJTV) cost function"
   ],
   "metadata": {
    "collapsed": false
   }
  },
  {
   "cell_type": "code",
   "execution_count": null,
   "outputs": [],
   "source": [
    "# Parameters\n",
    "cost_fun = 'njtv'  # Normalised joint total variation\n",
    "mean_space = True  # Optimise a mean-space fit\n",
    "samp = (4, 2)  # Use the default sub-sampling scheme (speeds up the registration)\n",
    "\n",
    "# Do registration\n",
    "q_est_gw, mat_fix, dim_fix = run_affine_reg(pth_mris_ma,\n",
    "    device=device, samp=samp, cost_fun=cost_fun, mean_space=mean_space)"
   ],
   "metadata": {
    "collapsed": false,
    "pycharm": {
     "name": "#%%\n"
    }
   }
  },
  {
   "cell_type": "markdown",
   "source": [
    "Let's look at the groupwise registration result"
   ],
   "metadata": {
    "collapsed": false
   }
  },
  {
   "cell_type": "code",
   "execution_count": null,
   "outputs": [],
   "source": [
    "# Get image data and reslice to the mean-space using the registration result (q_est)\n",
    "rdat, _ = reslice2fix(pth_mris_ma, q_est_gw, mat_fix, dim_fix, device=device, write=False)\n",
    "# Show images\n",
    "_ = show_slices(rdat)"
   ],
   "metadata": {
    "collapsed": false,
    "pycharm": {
     "name": "#%%\n"
    }
   }
  }
 ],
 "metadata": {
  "kernelspec": {
   "display_name": "Python 3",
   "language": "python",
   "name": "python3"
  },
  "language_info": {
   "codemirror_mode": {
    "name": "ipython",
    "version": 3
   },
   "file_extension": ".py",
   "mimetype": "text/x-python",
   "name": "python",
   "nbconvert_exporter": "python",
   "pygments_lexer": "ipython3",
   "version": "3.7.8"
  },
  "varInspector": {
   "cols": {
    "lenName": 16,
    "lenType": 16,
    "lenVar": 40
   },
   "kernels_config": {
    "python": {
     "delete_cmd_postfix": "",
     "delete_cmd_prefix": "del ",
     "library": "var_list.py",
     "varRefreshCmd": "print(var_dic_list())"
    },
    "r": {
     "delete_cmd_postfix": ") ",
     "delete_cmd_prefix": "rm(",
     "library": "var_list.r",
     "varRefreshCmd": "cat(var_dic_list()) "
    }
   },
   "types_to_exclude": [
    "module",
    "function",
    "builtin_function_or_method",
    "instance",
    "_Feature"
   ],
   "window_display": false
  }
 },
 "nbformat": 4,
 "nbformat_minor": 1
}
