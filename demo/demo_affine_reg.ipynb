{
  "nbformat": 4,
  "nbformat_minor": 0,
  "metadata": {
    "kernelspec": {
      "display_name": "Python 3",
      "language": "python",
      "name": "python3"
    },
    "language_info": {
      "codemirror_mode": {
        "name": "ipython",
        "version": 3
      },
      "file_extension": ".py",
      "mimetype": "text/x-python",
      "name": "python",
      "nbconvert_exporter": "python",
      "pygments_lexer": "ipython3",
      "version": "3.7.8"
    },
    "varInspector": {
      "cols": {
        "lenName": 16,
        "lenType": 16,
        "lenVar": 40
      },
      "kernels_config": {
        "python": {
          "delete_cmd_postfix": "",
          "delete_cmd_prefix": "del ",
          "library": "var_list.py",
          "varRefreshCmd": "print(var_dic_list())"
        },
        "r": {
          "delete_cmd_postfix": ") ",
          "delete_cmd_prefix": "rm(",
          "library": "var_list.r",
          "varRefreshCmd": "cat(var_dic_list()) "
        }
      },
      "types_to_exclude": [
        "module",
        "function",
        "builtin_function_or_method",
        "instance",
        "_Feature"
      ],
      "window_display": false
    },
    "colab": {
      "name": "demo_affine_reg.ipynb",
      "provenance": [],
      "collapsed_sections": [
        "E8y0uAl4aEnU",
        "qhIhX5b-ZSyT",
        "tICL1LgaZSyY"
      ]
    }
  },
  "cells": [
    {
      "cell_type": "markdown",
      "metadata": {
        "id": "nQrXtQnX_PqM"
      },
      "source": [
        "# NITorch (**N**euro**I**maging Py**Torch**)\n",
        "\n",
        "# Affine Registration Demo\n",
        "\n",
        "Also available in self-contained Colab notebook\n",
        "\n",
        "[![Open In Colab](https://colab.research.google.com/assets/colab-badge.svg)](https://colab.research.google.com/drive/13eSBtEvAp1wIJD0Rlvq5Q9kJWnuEc7WI?usp=sharing \"NITorch Affine Registration Demo\")\n"
      ]
    },
    {
      "cell_type": "markdown",
      "metadata": {
        "id": "cvBq87nunox1"
      },
      "source": [
        "##### For offline version:"
      ]
    },
    {
      "cell_type": "code",
      "metadata": {
        "id": "AWU0qPxCnnS_"
      },
      "source": [
        "# GETTING STARTED\n",
        "# This demo was run on:\n",
        "# * Ubuntu    18.04.4 LTS / CentOS 7.7.1908\n",
        "# * CUDA      10.1\n",
        "# * anaconda  1.7.2\n",
        "# * gcc       6.3.1\n",
        "# * pytorch   1.6\n",
        "#\n",
        "# To get started, run the following commands in a terminal:\n",
        "#\n",
        "#   git clone git@github.com:balbasty/nitorch.git\n",
        "#   cd nitorch\n",
        "#   conda env create --file ./conda/nitorch-demo.yml\n",
        "#   conda activate nitorch-demo\n",
        "#   pip install ."
      ],
      "execution_count": null,
      "outputs": []
    },
    {
      "cell_type": "markdown",
      "metadata": {
        "id": "E8y0uAl4aEnU"
      },
      "source": [
        "### Installations"
      ]
    },
    {
      "cell_type": "markdown",
      "metadata": {
        "id": "LkCLCPHzAWQh"
      },
      "source": [
        "First clone the repo..."
      ]
    },
    {
      "cell_type": "code",
      "metadata": {
        "colab": {
          "base_uri": "https://localhost:8080/"
        },
        "id": "jXRmdprZ5mpQ",
        "outputId": "4715faca-bdc8-46ff-9e7c-8b817463ce78"
      },
      "source": [
        "!git clone https://github.com/balbasty/nitorch"
      ],
      "execution_count": null,
      "outputs": []
    },
    {
      "cell_type": "markdown",
      "metadata": {
        "id": "cYAlgRTzAZxw"
      },
      "source": [
        "Set-up of NITorch and dependencies"
      ]
    },
    {
      "cell_type": "code",
      "metadata": {
        "colab": {
          "base_uri": "https://localhost:8080/"
        },
        "id": "egsyR4pFAVSw",
        "outputId": "36d2970f-6c9d-4410-b176-bf82935ec862"
      },
      "source": [
        "! pip install numpy\n",
        "! pip install nibabel\n",
        "! pip install matplotlib\n",
        "! pip install scipy"
      ],
      "execution_count": null,
      "outputs": []
    },
    {
      "cell_type": "code",
      "metadata": {
        "colab": {
          "base_uri": "https://localhost:8080/"
        },
        "id": "xsD9indOAVb5",
        "outputId": "0762ad05-929a-438e-97a3-d39e8e28bead"
      },
      "source": [
        "! pip install ./nitorch/"
      ],
      "execution_count": null,
      "outputs": []
    },
    {
      "cell_type": "markdown",
      "metadata": {
        "id": "JUUh0OJzENbK"
      },
      "source": [
        "Above cells can be pasted into your own colab notebook for easy install"
      ]
    },
    {
      "cell_type": "markdown",
      "metadata": {
        "id": "qhIhX5b-ZSyT"
      },
      "source": [
        "### GETTING STARTED\n",
        "\n",
        "First, we will import required packages"
      ]
    },
    {
      "cell_type": "code",
      "metadata": {
        "id": "DfrGh0piZSyT"
      },
      "source": [
        "# Python\n",
        "import os\n",
        "import wget\n",
        "import zipfile\n",
        "from shutil import copyfile\n",
        "\n",
        "# Torch / NiBabel\n",
        "import torch\n",
        "\n",
        "# NiTorch\n",
        "from nitorch.core.pyutils import file_mod\n",
        "from nitorch.tools.affine_reg._align import _test_cost\n",
        "from nitorch.plot import show_slices\n",
        "from nitorch.tools.preproc import (affine_align, world_reslice)\n",
        "from nitorch.tools._preproc_utils import _format_input\n",
        "from nitorch.core.linalg import _expm\n",
        "from nitorch.spatial import affine_basis\n",
        "from nitorch.io import map"
      ],
      "execution_count": null,
      "outputs": []
    },
    {
      "cell_type": "markdown",
      "metadata": {
        "collapsed": false,
        "pycharm": {
          "name": "#%% md\n"
        },
        "id": "l_AlWS2GZSyU"
      },
      "source": [
        "and define some helper functions"
      ]
    },
    {
      "cell_type": "code",
      "metadata": {
        "pycharm": {
          "name": "#%%\n"
        },
        "id": "gpfEu-H9ZSyU"
      },
      "source": [
        "def realign(pths, prefix='ma_', odir='', t_std=10, r_std=0.25):\n",
        "    \"\"\"Realign images.\n",
        "    \"\"\"\n",
        "    # Make random realignment\n",
        "    N = len(pths)\n",
        "    q = torch.DoubleTensor(N, 6)\n",
        "    torch.manual_seed(0)\n",
        "    q[:, :3] = torch.DoubleTensor(N, 3).\\\n",
        "        uniform_(-t_std, t_std)  # random translation\n",
        "    q[:, 3:] = torch.DoubleTensor(N, 3).\\\n",
        "        uniform_(-r_std, r_std)  # random rotation\n",
        "    # Apply random realignment\n",
        "    B = affine_basis(group='SE', dim=3)\n",
        "    for n in range(N):\n",
        "        # Make copy\n",
        "        ipth = pths[n]\n",
        "        opth = file_mod(ipth, prefix=prefix, odir=odir)\n",
        "        os.makedirs(os.path.dirname(opth), exist_ok=True)\n",
        "        copyfile(ipth, opth)\n",
        "        # Compose transformations\n",
        "        dat = map(opth)\n",
        "        M = dat.affine\n",
        "        R = _expm(q[n, ...], basis=B)\n",
        "        M = M.solve(R)[0]\n",
        "        # Modify affine in header\n",
        "        dat.set_metadata(affine=M)\n",
        "        pths[n] = opth\n",
        "\n",
        "    return pths\n",
        "\n",
        "def show_in_world_space(pths):\n",
        "    \"\"\"Show images in world space\n",
        "    \"\"\"\n",
        "    for n in range(len(pths)):\n",
        "        dat = world_reslice(pths[n], write=False)[0]\n",
        "        _ = show_slices(dat, fig_num=n)\n",
        "\n",
        "def show_dat(dat):\n",
        "    \"\"\"Show images.\n",
        "    \"\"\"\n",
        "    for n in range(dat.shape[0]):\n",
        "        _ = show_slices(dat[n, ...], fig_num=n)"
      ],
      "execution_count": null,
      "outputs": []
    },
    {
      "cell_type": "markdown",
      "metadata": {
        "id": "QLtJPFlZZSyV"
      },
      "source": [
        "and get the PyTorch device"
      ]
    },
    {
      "cell_type": "code",
      "metadata": {
        "pycharm": {
          "name": "#%%\n"
        },
        "id": "-yjmDqgyZSyW"
      },
      "source": [
        "device_type = 'cuda' if torch.cuda.is_available() else 'cpu'\n",
        "device = torch.device(device_type)\n",
        "if device_type == 'cuda':\n",
        "    print('GPU: ' + torch.cuda.get_device_name(0) + ', CUDA: ' + str(torch.cuda.is_available()))\n",
        "else:\n",
        "    print('CPU')"
      ],
      "execution_count": null,
      "outputs": []
    },
    {
      "cell_type": "markdown",
      "metadata": {
        "pycharm": {
          "name": "#%% md\n"
        },
        "id": "SiM0qkNxZSyW"
      },
      "source": [
        "This demo will use three MRIs (T1w, T2w, PDw) from the BrainWeb simulator (https://brainweb.bic.mni.mcgill.ca/brainweb/).\n",
        "When running the script for the first time, these images will be downloaded to the same folder as this notebook"
      ]
    },
    {
      "cell_type": "code",
      "metadata": {
        "id": "khbN19ZUZSyX"
      },
      "source": [
        "# URL to MRIs\n",
        "url = 'https://www.dropbox.com/s/8xh6tnf47hzkykx/brainweb.zip?dl=1'\n",
        "\n",
        "# Path to downloaded zip-file\n",
        "cwd = os.getcwd()\n",
        "pth_zip = os.path.join(cwd, 'brainweb.zip')\n",
        "pth_mris = [os.path.join(cwd, 't1_icbm_normal_1mm_pn0_rf0.nii'),\n",
        "            os.path.join(cwd, 't2_icbm_normal_1mm_pn0_rf0.nii'),\n",
        "            os.path.join(cwd, 'pd_icbm_normal_1mm_pn0_rf0.nii')]\n",
        "\n",
        "# Download file\n",
        "if not os.path.exists(pth_zip):\n",
        "    print('Downloading images...', end='')\n",
        "    wget.download(url, pth_zip)\n",
        "    print('done!')\n",
        "\n",
        "# Unzip file\n",
        "if not all([os.path.exists(p) for p in pth_mris]):\n",
        "    with zipfile.ZipFile(pth_zip, 'r') as zip_ref:\n",
        "        zip_ref.extractall(cwd)"
      ],
      "execution_count": null,
      "outputs": []
    },
    {
      "cell_type": "markdown",
      "metadata": {
        "collapsed": false,
        "pycharm": {
          "name": "#%% md\n"
        },
        "id": "SHfEo5ddZSyX"
      },
      "source": [
        "Let's have a look at the images"
      ]
    },
    {
      "cell_type": "code",
      "metadata": {
        "pycharm": {
          "name": "#%%\n"
        },
        "id": "B5VVG_iuZSyX"
      },
      "source": [
        "show_in_world_space(pth_mris)"
      ],
      "execution_count": null,
      "outputs": []
    },
    {
      "cell_type": "markdown",
      "metadata": {
        "collapsed": false,
        "id": "tICL1LgaZSyY"
      },
      "source": [
        "### INSPECT REGISTRATION COST FUNCTION\n",
        "\n",
        "Now, let's inspect the cost function's behaviour as we keep one image fixed and move the second image.\n",
        "Feel free to test the different options below"
      ]
    },
    {
      "cell_type": "code",
      "metadata": {
        "pycharm": {
          "name": "#%%\n"
        },
        "id": "6td-JUqGZSyY"
      },
      "source": [
        "cost_fun = 'nmi'    # ['nmi', 'mi', 'ncc' ,'ecc' ,'njtv', 'jtv']\n",
        "mean_space = False  # Only available for 'njtv' cost function (as groupwise)\n",
        "samp = 2            # Level of sub-sampling\n",
        "ix_par = 0          # What parameter in the affine transformation to modify (0, ..., 11)\n",
        "x_mn_mx = 30        # Min/max value of parameter\n",
        "x_step = 0.5        # Step-size of parameter\n",
        "\n",
        "dat, mat, _ = _format_input(pth_mris[:2], device=device)\n",
        "_test_cost(dat, mat,\n",
        "    ix_par=ix_par, cost_fun=cost_fun, mean_space=mean_space, samp=samp,\n",
        "    x_mn_mx=x_mn_mx, x_step=x_step)"
      ],
      "execution_count": null,
      "outputs": []
    },
    {
      "cell_type": "markdown",
      "metadata": {
        "collapsed": false,
        "pycharm": {
          "name": "#%% md\n"
        },
        "id": "t_YEaZAZZSyY"
      },
      "source": [
        "### CREATE RIGIDLY REALIGNED IMAGES\n",
        "\n",
        "Next, we will rigidly realign all of the input scans, this writes new\n",
        "images prefixed `ra_*`"
      ]
    },
    {
      "cell_type": "code",
      "metadata": {
        "pycharm": {
          "name": "#%%\n"
        },
        "id": "FPovacvTZSyY"
      },
      "source": [
        "pth_mris_ra = realign(pth_mris, prefix='ra_')"
      ],
      "execution_count": null,
      "outputs": []
    },
    {
      "cell_type": "markdown",
      "metadata": {
        "collapsed": false,
        "id": "Sy71Ar1UZSyZ"
      },
      "source": [
        "Let's have a look at the realigned images"
      ]
    },
    {
      "cell_type": "code",
      "metadata": {
        "pycharm": {
          "name": "#%%\n"
        },
        "id": "K8xfI4UlZSyZ"
      },
      "source": [
        "show_in_world_space(pth_mris_ra)"
      ],
      "execution_count": null,
      "outputs": []
    },
    {
      "cell_type": "markdown",
      "metadata": {
        "collapsed": false,
        "id": "gpQBGXm8ZSyZ"
      },
      "source": [
        "### PAIRWISE REGISTRAITON\n",
        "\n",
        "We will now align the images using pairwise registration by keeping one of\n",
        "the images fixed and registering\n",
        "all other images to this fixed target image"
      ]
    },
    {
      "cell_type": "code",
      "metadata": {
        "pycharm": {
          "name": "#%%\n"
        },
        "id": "BuZzws5RZSyZ"
      },
      "source": [
        "# Parameters\n",
        "cost_fun = 'nmi'  # The normalised mutual information cost\n",
        "fix = 0           # Set the first image to the fixed one (remember, there are three in total)\n",
        "samp = (4, 2)     # Use the default sub-sampling scheme (speeds up the registration)\n",
        "\n",
        "# Do registration\n",
        "dat_aligned = affine_align(pth_mris_ra, device=device, cost_fun=cost_fun,\n",
        "                           samp=samp)[0]"
      ],
      "execution_count": null,
      "outputs": []
    },
    {
      "cell_type": "markdown",
      "metadata": {
        "collapsed": false,
        "id": "6vj6k-CgZSya"
      },
      "source": [
        "Let's look at the pairwise registration result"
      ]
    },
    {
      "cell_type": "code",
      "metadata": {
        "pycharm": {
          "name": "#%%\n"
        },
        "id": "qbMEOsd8ZSya"
      },
      "source": [
        "show_dat(dat_aligned)"
      ],
      "execution_count": null,
      "outputs": []
    },
    {
      "cell_type": "markdown",
      "metadata": {
        "collapsed": false,
        "id": "U1qTZj0BZSya"
      },
      "source": [
        "### GROUPWISE REGISTRAITON\n",
        "\n",
        "Finally, we will align the images using groupwise registration where the cost function optimiser over all images\n",
        "at the same time. This is done using the Normalised Joint Total Variation (NJTV) cost function"
      ]
    },
    {
      "cell_type": "code",
      "metadata": {
        "pycharm": {
          "name": "#%%\n"
        },
        "id": "cTx7jLTpZSya"
      },
      "source": [
        "# Parameters\n",
        "cost_fun = 'njtv'  # Normalised joint total variation\n",
        "mean_space = True  # Optimise a mean-space fit\n",
        "samp = (4, 2)      # Use the default sub-sampling scheme (speeds up the registration)\n",
        "\n",
        "# Do registration\n",
        "dat_aligned = affine_align(pth_mris_ra, device=device, cost_fun=cost_fun,\n",
        "                           samp=samp, mean_space=mean_space)[0]"
      ],
      "execution_count": null,
      "outputs": []
    },
    {
      "cell_type": "markdown",
      "metadata": {
        "collapsed": false,
        "id": "9HCUwCadZSya"
      },
      "source": [
        "Let's look at the groupwise registration result"
      ]
    },
    {
      "cell_type": "code",
      "metadata": {
        "pycharm": {
          "name": "#%%\n"
        },
        "id": "qRkw9my1ZSyb"
      },
      "source": [
        "show_dat(dat_aligned)"
      ],
      "execution_count": null,
      "outputs": []
    }
  ]
}